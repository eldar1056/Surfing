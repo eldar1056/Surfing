{
 "cells": [
  {
   "cell_type": "markdown",
   "id": "d1c6340f",
   "metadata": {},
   "source": [
    "# <center>Семинар 3. <br> Используем параболическое приближение по трем точкам <br> чтобы решить задачу с трубой</center>"
   ]
  },
  {
   "cell_type": "markdown",
   "id": "95fe343f",
   "metadata": {},
   "source": [
    "<center>Задача: мы хотим решить задачу Коши(приближенно) для функции\n",
    "$$c(x, t) \\quad x, t \\in \\mathbb{R}$$\n",
    "Нам даны значения функции в начальный момент времени\n",
    "$$c(x, 0) = c_0(x)$$\n",
    "Мы рассматриваем функцию на конечном наборе точек - рассматриваем равномерное разбиение по x и по t\n",
    "$$с_m^n = c(x_m, t_n)$$\n",
    "</center>\n",
    "Мы хотим имея некоторый набор значений уметь делать хорошее приближение значения, которое функция будет принимать в какой-то момент времени T. Для этого мы будем послойно генерировать значения (где слой соответствует одному значению t). Используем значения предыдущего слоя чтобы получить следующий. Будем находить значение в каждой точке слоя(x_m+1, t_n+1) используя три значения в предыдущем слое(t_n): соответствующие x_n-1, x_n и x_n+1.\n",
    "\n",
    "При этом система будет замкнута на себя, то есть мы будем жить в фактор пространстве(по идее можно еще рассматривать фактор множество на разбиении R) R по остатку от деления на L - меру этого пространства(другими словами длина трубы). То есть мы отождествляем x_-1 с последним элементом разбиения, что позволяет нам использовать одинаковые формулы для вычисления всех элементов.\n",
    "\n",
    "Идея того как получить формулу - это подумать про физический смысл, который в данном случае заключается в движении по замкнутой трубе с постоянной скоростью. Тогда функция в момент времени t+tau отличается от функции во время t сдвигом на u*tau по x, если u - скорость. Поскольку мы имеем только дискретный набор данных в каждый момент времени, нужно приблизить значение попытаясь построить функцию наиболее приближающую поведение функции основываясь на близких точках.\n",
    "\n",
    "В нашем случае, мы утверждаем что при достаточно малом разбиении tau, x_n - u*tau > x_n-1, поэтому мы используем точки лежащие рядом . Ищем решение в виде полинома\n",
    "$$c(x, t_n) = \\tilde{c}(\\tilde{x}) = a_2\\tilde{x}^2 + a_1\\tilde{x} + a_0,\\quad\\quad \\tilde{x} = x-x_m$$\n",
    "\n",
    "Подставляя три ближайшие точки в уравнение можно получить следующий результат для интересующей нас точки:\n",
    "\n",
    "$$ c_m^{n+1} = c(x_m, t_{n+1}) = c(x_m - u\\tau, t_n) = (c_{m+1}^n + c_{m-1}^n - 2c_{m}^n)\\frac{u^2\\tau^2}{2h^2} + (c_{m+1}^n - c_{m-1}^n)\\frac{u\\tau}{2h} + c_m^n$$"
   ]
  },
  {
   "cell_type": "markdown",
   "id": "f5c61fcc",
   "metadata": {},
   "source": [
    "Приступим к выполнению задачи. Сначала введем начальный мусор."
   ]
  },
  {
   "cell_type": "code",
   "execution_count": 1,
   "id": "6a292425",
   "metadata": {},
   "outputs": [],
   "source": [
    "import matplotlib.pyplot as plt\n",
    "import math"
   ]
  },
  {
   "cell_type": "code",
   "execution_count": 2,
   "id": "df82b7e6",
   "metadata": {},
   "outputs": [],
   "source": [
    "def c_0(x): # функция c(x) в начальный момент времени с прямоугольным графиком (ну как-бы нет, но я не знаю как это называется)\n",
    "    if 3 < x < 5:\n",
    "         return 1\n",
    "    else:\n",
    "         return 0"
   ]
  },
  {
   "cell_type": "code",
   "execution_count": 3,
   "id": "4286cbd5",
   "metadata": {},
   "outputs": [
    {
     "name": "stdout",
     "output_type": "stream",
     "text": [
      "0.5 0.5\n"
     ]
    }
   ],
   "source": [
    "L = 10 # размер области в которой определен x\n",
    "TAU = 0.01 # разбиение по времени\n",
    "H = 0.01 # разбиение по координате\n",
    "u = 1 # константа скорости\n",
    "T = 5 # время для которого требуется найти состояние функции c(x)\n",
    "A2 = u*u*TAU*TAU/(2*H*H) # коэффициенты в форуле\n",
    "A1 = u*TAU/(2*H)\n",
    "print(A2, A1)"
   ]
  },
  {
   "cell_type": "markdown",
   "id": "5986d2bc",
   "metadata": {},
   "source": [
    "Теперь введем 2 функции которые будем использовать для удобства"
   ]
  },
  {
   "cell_type": "code",
   "execution_count": 4,
   "id": "ef7dc861",
   "metadata": {},
   "outputs": [],
   "source": [
    "def next_layer(layer, t):\n",
    "    \"\"\"\n",
    "    Вычисляет следующий слой по предыдущему используя формулу\n",
    "    :param layer: Массив со значениями функции в какой-то момент времени t\n",
    "    :param t: Время для которого даны значения функции\n",
    "    :return: Массив со значениями в следующий момент времени\n",
    "    \"\"\"\n",
    "    output = []\n",
    "    for i in range(len(layer)):\n",
    "        value = A2*(layer[(i+1)%len(layer)]+layer[i-1]-2*layer[i]) + A1*(layer[i-1]-layer[(i+1)%len(layer)]) + layer[i]\n",
    "        output.append(value)\n",
    "    return output"
   ]
  },
  {
   "cell_type": "code",
   "execution_count": 5,
   "id": "efb189f3",
   "metadata": {},
   "outputs": [],
   "source": [
    "def get_range(interval, total):\n",
    "    \"\"\"\n",
    "    Создает равномерное разбиение от 0 до total с шагом interval.\n",
    "    Наверное, вы можете просто использовать linspace или что-то другое, но пофиг, я так написал\n",
    "    :param interval: шаг между соседними значениями\n",
    "    :param total: Максимальное значение в разбиении\n",
    "    :return: Массив со значениями от 0 до total, где соседние значения отличаются на значение interval\n",
    "    \"\"\"\n",
    "    return [alpha*interval for alpha in range(math.ceil(int(total/interval)+1))]"
   ]
  },
  {
   "cell_type": "markdown",
   "id": "5ada2348",
   "metadata": {},
   "source": [
    "Решаем задачу для случая с прямоугольным графиком и рисуем график."
   ]
  },
  {
   "cell_type": "code",
   "execution_count": 6,
   "id": "1fcf2100",
   "metadata": {},
   "outputs": [
    {
     "data": {
      "image/png": "[encoded data removed]",
      "text/plain": [
       "<Figure size 640x480 with 1 Axes>"
      ]
     },
     "metadata": {},
     "output_type": "display_data"
    }
   ],
   "source": [
    "x_range = get_range(H, L) # разбиение, на котором работаем\n",
    "\n",
    "current_layer = [c_0(x) for x in x_range] # задаем начальное положение с помощью функции c_0\n",
    "\n",
    "for step in range(1, int(T/TAU)+1):\n",
    "    current_layer = next_layer(current_layer, step*TAU) # получаем следующий слой необходимое количество раз\n",
    "\n",
    "plt.plot(x_range, [c_0(x) for x in x_range]) # рисуем синим начальное положение, оранжевым - результат в момент T\n",
    "plt.plot(x_range, current_layer)\n",
    "\n",
    "plt.xlabel('x')\n",
    "plt.ylabel('c(x)')\n",
    "plt.show()"
   ]
  },
  {
   "cell_type": "markdown",
   "id": "125d68d9",
   "metadata": {},
   "source": [
    "Теперь мы используем периодическую функцию вместо c_0 и будем сдвигать ее на ее период. Т.е. мы ожидаем, что в итоге значения мало изменятся."
   ]
  },
  {
   "cell_type": "code",
   "execution_count": 7,
   "id": "1ae7e582",
   "metadata": {},
   "outputs": [],
   "source": [
    "def periodic_func(x): # пример хорошей периодической функции\n",
    "    return (math.sin(math.pi*x/L))**4\n",
    "\n",
    "period = L/u # при движении со скоростью u, функция должна возвращаться в начальное положение при таком времени"
   ]
  },
  {
   "cell_type": "markdown",
   "id": "d4008159",
   "metadata": {},
   "source": [
    "Мы хотим посмотреть на результат при разных разбиениях(h). А именно мы хотим измерить насколько получаемые значения отличаются от эталонных(в этом случае начальных). Для этого мы используем норму \n",
    "$$ E = max|g_i - f_i| $$\n",
    "Где g - вычисленное решение через период, f - начальное значение \n",
    "\n",
    "Поэтому выведем вычисление результата в функцию от разбиения и введем функцию, которая будет вычислять ошибку(E)."
   ]
  },
  {
   "cell_type": "code",
   "execution_count": 8,
   "id": "bc75bc0e",
   "metadata": {},
   "outputs": [],
   "source": [
    "def get_solution(x_interval, t_interval):\n",
    "    \"\"\"\n",
    "    Решает нашу задачу для заданной мелкости разбиения\n",
    "    :param x_interval: Мелкость разбиения по x\n",
    "    :param t_interval: Мелкость разбиения по t\n",
    "    :return: Массив с вычесленными значениями c(x) в момент времени = period \n",
    "    \"\"\"\n",
    "    x_range = get_range(x_interval, L) \n",
    "    current_layer = [periodic_func(x) for x in x_range]\n",
    "    for step in range(1, int(period/t_interval)+1):\n",
    "        current_layer = next_layer(current_layer, step*t_interval)\n",
    "\n",
    "    return current_layer\n",
    "# кому не лень можно подумать почему именно так все написано"
   ]
  },
  {
   "cell_type": "code",
   "execution_count": 9,
   "id": "5f3ea9cd",
   "metadata": {},
   "outputs": [],
   "source": [
    "def calculate_error(values1, values2):\n",
    "    \"\"\"\n",
    "    Вычисляет величину ошибки между полученным результатом и теоретически верным\n",
    "    :param values1: Массив вычисленных значений\n",
    "    :param t_interval: Массив аналитически \"правильных\" значений\n",
    "    :return: Значение вычисленной ошибки как максимум модуля поэлементной разности\n",
    "    \"\"\"\n",
    "    return max([abs(values1[i]-values2[i]) for i in range(min(len(values1), len(values2)))])"
   ]
  },
  {
   "cell_type": "markdown",
   "id": "9f5ae9c7",
   "metadata": {},
   "source": [
    "Посмотрим как выглядят графики"
   ]
  },
  {
   "cell_type": "code",
   "execution_count": 10,
   "id": "52e6a39a",
   "metadata": {},
   "outputs": [
    {
     "name": "stdout",
     "output_type": "stream",
     "text": [
      "E = 0.04079249836538157\n"
     ]
    },
    {
     "data": {
      "image/png": "[encoded data removed]",
      "text/plain": [
       "<Figure size 640x480 with 1 Axes>"
      ]
     },
     "metadata": {},
     "output_type": "display_data"
    }
   ],
   "source": [
    "x_range = get_range(0.1, L)\n",
    "original = [periodic_func(x) for x in x_range]\n",
    "solution = get_solution(0.1, 0.1)\n",
    "\n",
    "print(\"E =\", calculate_error(original, solution))\n",
    "\n",
    "plt.plot(x_range, [periodic_func(x) for x in x_range])\n",
    "plt.plot(x_range, get_solution(0.1, 0.1))\n",
    "plt.xlabel('x')\n",
    "plt.ylabel(r'$sin^4(\\pi x/L)$')\n",
    "plt.show()"
   ]
  },
  {
   "cell_type": "markdown",
   "id": "76db5524",
   "metadata": {},
   "source": [
    "Похоже"
   ]
  },
  {
   "cell_type": "markdown",
   "id": "b9c0fe12",
   "metadata": {},
   "source": [
    "Найдем зависимость ошибки от мелкости разбиения"
   ]
  },
  {
   "cell_type": "code",
   "execution_count": 11,
   "id": "4618fa05",
   "metadata": {},
   "outputs": [],
   "source": [
    "intervals = []\n",
    "errors = []\n",
    "\n",
    "for interval in get_range(0.001, 1): # зададим для каких интервалов мы хотим вычислять распределение, можете другое поставить\n",
    "    if interval == 0: # get_range имеет 0 в возращаемых значениях, но он ломает программу, поэтому не будем его использовать \n",
    "        continue\n",
    "        \n",
    "    solution = get_solution(interval, interval) # зададим равные интервалы по координате и времени и найдем решение \n",
    "    error = calculate_error(solution, [periodic_func(x) for x in get_range(interval, L)])\n",
    "    \n",
    "    intervals.append(interval) # запишем значения ошибок которые мы получили для каждого интервала\n",
    "    errors.append(error)"
   ]
  },
  {
   "cell_type": "markdown",
   "id": "ebc5ae82",
   "metadata": {},
   "source": [
    "Будем смотреть на модуль логарифма величин, поэтому напишем функцию, которая переведет данные в такой формат"
   ]
  },
  {
   "cell_type": "code",
   "execution_count": 12,
   "id": "2c718843",
   "metadata": {},
   "outputs": [],
   "source": [
    "def get_log(array):\n",
    "    return [abs(math.log(x)) for x in array]"
   ]
  },
  {
   "cell_type": "markdown",
   "id": "ad0b4de9",
   "metadata": {},
   "source": [
    "Рисуем график и радуемся"
   ]
  },
  {
   "cell_type": "code",
   "execution_count": 13,
   "id": "b5f3ecf1",
   "metadata": {},
   "outputs": [
    {
     "data": {
      "image/png": "[encoded data removed]",
      "text/plain": [
       "<Figure size 640x480 with 1 Axes>"
      ]
     },
     "metadata": {},
     "output_type": "display_data"
    }
   ],
   "source": [
    "plt.plot(get_log(intervals), get_log(errors))\n",
    "plt.xlabel('|ln(h)|')\n",
    "plt.ylabel('|ln(E(h))|')\n",
    "plt.show()"
   ]
  }
 ],
 "metadata": {
  "kernelspec": {
   "display_name": "Python 3 (ipykernel)",
   "language": "python",
   "name": "python3"
  },
  "language_info": {
   "codemirror_mode": {
    "name": "ipython",
    "version": 3
   },
   "file_extension": ".py",
   "mimetype": "text/x-python",
   "name": "python",
   "nbconvert_exporter": "python",
   "pygments_lexer": "ipython3",
   "version": "3.11.5"
  }
 },
 "nbformat": 4,
 "nbformat_minor": 5
}
